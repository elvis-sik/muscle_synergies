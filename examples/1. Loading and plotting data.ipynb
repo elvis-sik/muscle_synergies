{
 "cells": [
  {
   "cell_type": "markdown",
   "metadata": {},
   "source": [
    "#  1. Loading and plotting data\n",
    "\n",
    "This tutorial exemplifies how to load data outputted by Vicon Nexus (a CSV file) and plot it using `matplotlib`.\n",
    "\n",
    "## 1.1 Imports\n",
    "\n",
    "First, for convenience, let's load some `Jupyter` extensions:"
   ]
  },
  {
   "cell_type": "code",
   "execution_count": 1,
   "metadata": {},
   "outputs": [],
   "source": [
    "%load_ext autoreload\n",
    "%autoreload 2"
   ]
  },
  {
   "cell_type": "markdown",
   "metadata": {},
   "source": [
    "Now we import `matplotlib`:"
   ]
  },
  {
   "cell_type": "code",
   "execution_count": 2,
   "metadata": {},
   "outputs": [],
   "source": [
    "import matplotlib.pyplot as plt"
   ]
  },
  {
   "cell_type": "markdown",
   "metadata": {},
   "source": [
    "And `pathlib.Path`, which we use to find the dataset:"
   ]
  },
  {
   "cell_type": "code",
   "execution_count": 3,
   "metadata": {},
   "outputs": [],
   "source": [
    "from pathlib import Path"
   ]
  },
  {
   "cell_type": "markdown",
   "metadata": {},
   "source": [
    "Finally, we import `load_vicon_file`:"
   ]
  },
  {
   "cell_type": "code",
   "execution_count": 4,
   "metadata": {},
   "outputs": [],
   "source": [
    "from muscle_synergies import load_vicon_file"
   ]
  },
  {
   "cell_type": "markdown",
   "metadata": {},
   "source": [
    "## 1.2 Loading the data"
   ]
  },
  {
   "cell_type": "markdown",
   "metadata": {},
   "source": [
    "Now, we determine the location of the dataset:"
   ]
  },
  {
   "cell_type": "code",
   "execution_count": 5,
   "metadata": {},
   "outputs": [
    {
     "data": {
      "text/plain": [
       "PosixPath('/home/elvis/Organização/Projetos/Biomecânica/emg-code/muscle_synergies/sample_data/dynamic_trial.csv')"
      ]
     },
     "execution_count": 5,
     "metadata": {},
     "output_type": "execute_result"
    }
   ],
   "source": [
    "cwd = Path().resolve()\n",
    "data_dir = cwd / '..' / 'sample_data'\n",
    "abridged_dataset = data_dir / 'abridged_data.csv' # useful for testing\n",
    "full_dataset = data_dir / 'dynamic_trial.csv'\n",
    "dataset = full_dataset.resolve()\n",
    "dataset"
   ]
  },
  {
   "cell_type": "markdown",
   "metadata": {},
   "source": [
    "And load it:"
   ]
  },
  {
   "cell_type": "code",
   "execution_count": 6,
   "metadata": {},
   "outputs": [],
   "source": [
    "vicon_data = load_vicon_file(dataset)"
   ]
  },
  {
   "cell_type": "markdown",
   "metadata": {},
   "source": [
    "## 1.3 Understanding the structure of the data\n",
    "\n",
    "`load_vicon_file` returns a `ViconNexusData` object, which has 3 members:\n",
    "+ `forcepl`: a list containing the different force plate devices\n",
    "+ `emg`: a single device containing all the EMG data\n",
    "+ `traj`: a list containing the different trajectory tracking devices\n",
    "\n",
    "`ViconNexusData.describe()` returns a `str` with a summary of the loaded contents:"
   ]
  },
  {
   "cell_type": "code",
   "execution_count": 7,
   "metadata": {},
   "outputs": [
    {
     "name": "stdout",
     "output_type": "stream",
     "text": [
      "ViconNexusData:\n",
      "+ emg: 8 muscles\n",
      "+ forcepl (2 devices): DeviceData(\"Imported AMTI OR6 Series Force Plate #1\"), DeviceData(\"Imported AMTI OR6 Series Force Plate #2\")\n",
      "+ traj (40 devices): DeviceData(\"Angelica:HV\"), ..., DeviceData(\"Angelica:ELAST_DP\")\n"
     ]
    }
   ],
   "source": [
    "print(vicon_data.describe())"
   ]
  },
  {
   "cell_type": "markdown",
   "metadata": {},
   "source": [
    "Now let's focus on a single one of those devices, specifically, the one containing the EMG data. \n",
    "The data for each device is contained in a `DeviceData` object:"
   ]
  },
  {
   "cell_type": "code",
   "execution_count": 8,
   "metadata": {},
   "outputs": [
    {
     "data": {
      "text/plain": [
       "<DeviceData(\"EMG2000 - Voltage\")>"
      ]
     },
     "execution_count": 8,
     "metadata": {},
     "output_type": "execute_result"
    }
   ],
   "source": [
    "emg_dev = vicon_data.emg\n",
    "emg_dev"
   ]
  },
  {
   "cell_type": "markdown",
   "metadata": {},
   "source": [
    "The name is stored in the `DeviceData.name` member:"
   ]
  },
  {
   "cell_type": "code",
   "execution_count": 9,
   "metadata": {},
   "outputs": [
    {
     "data": {
      "text/plain": [
       "'EMG2000 - Voltage'"
      ]
     },
     "execution_count": 9,
     "metadata": {},
     "output_type": "execute_result"
    }
   ],
   "source": [
    "emg_dev.name"
   ]
  },
  {
   "cell_type": "markdown",
   "metadata": {},
   "source": [
    "The sampling frequency at which the data was measured can be accessed via the `DeviceData.sampling_frequency` member (in Hz):"
   ]
  },
  {
   "cell_type": "code",
   "execution_count": 10,
   "metadata": {},
   "outputs": [
    {
     "data": {
      "text/plain": [
       "2000"
      ]
     },
     "execution_count": 10,
     "metadata": {},
     "output_type": "execute_result"
    }
   ],
   "source": [
    "emg_dev.sampling_frequency"
   ]
  },
  {
   "cell_type": "markdown",
   "metadata": {},
   "source": [
    "Finally, the data itself is stored as a `pandas.DataFrame` in the `DeviceData.df` member. Below, the first 3 rows of the EMG data are shown:"
   ]
  },
  {
   "cell_type": "code",
   "execution_count": 11,
   "metadata": {},
   "outputs": [
    {
     "data": {
      "text/html": [
       "<div>\n",
       "<style scoped>\n",
       "    .dataframe tbody tr th:only-of-type {\n",
       "        vertical-align: middle;\n",
       "    }\n",
       "\n",
       "    .dataframe tbody tr th {\n",
       "        vertical-align: top;\n",
       "    }\n",
       "\n",
       "    .dataframe thead th {\n",
       "        text-align: right;\n",
       "    }\n",
       "</style>\n",
       "<table border=\"1\" class=\"dataframe\">\n",
       "  <thead>\n",
       "    <tr style=\"text-align: right;\">\n",
       "      <th></th>\n",
       "      <th>VL</th>\n",
       "      <th>RF</th>\n",
       "      <th>GMED</th>\n",
       "      <th>TFL</th>\n",
       "      <th>GMAXS</th>\n",
       "      <th>GMAXI</th>\n",
       "      <th>BF</th>\n",
       "      <th>ST</th>\n",
       "    </tr>\n",
       "  </thead>\n",
       "  <tbody>\n",
       "    <tr>\n",
       "      <th>0</th>\n",
       "      <td>0.003724</td>\n",
       "      <td>0.007224</td>\n",
       "      <td>0.003441</td>\n",
       "      <td>0.001500</td>\n",
       "      <td>-0.000798</td>\n",
       "      <td>-0.001960</td>\n",
       "      <td>-0.006023</td>\n",
       "      <td>-0.002324</td>\n",
       "    </tr>\n",
       "    <tr>\n",
       "      <th>1</th>\n",
       "      <td>0.004639</td>\n",
       "      <td>0.004782</td>\n",
       "      <td>0.002068</td>\n",
       "      <td>0.000889</td>\n",
       "      <td>-0.000036</td>\n",
       "      <td>-0.001503</td>\n",
       "      <td>-0.003735</td>\n",
       "      <td>-0.003697</td>\n",
       "    </tr>\n",
       "    <tr>\n",
       "      <th>2</th>\n",
       "      <td>0.004487</td>\n",
       "      <td>0.001425</td>\n",
       "      <td>0.000389</td>\n",
       "      <td>-0.000026</td>\n",
       "      <td>-0.000798</td>\n",
       "      <td>-0.002418</td>\n",
       "      <td>0.001911</td>\n",
       "      <td>-0.005376</td>\n",
       "    </tr>\n",
       "  </tbody>\n",
       "</table>\n",
       "</div>"
      ],
      "text/plain": [
       "         VL        RF      GMED       TFL     GMAXS     GMAXI        BF  \\\n",
       "0  0.003724  0.007224  0.003441  0.001500 -0.000798 -0.001960 -0.006023   \n",
       "1  0.004639  0.004782  0.002068  0.000889 -0.000036 -0.001503 -0.003735   \n",
       "2  0.004487  0.001425  0.000389 -0.000026 -0.000798 -0.002418  0.001911   \n",
       "\n",
       "         ST  \n",
       "0 -0.002324  \n",
       "1 -0.003697  \n",
       "2 -0.005376  "
      ]
     },
     "execution_count": 11,
     "metadata": {},
     "output_type": "execute_result"
    }
   ],
   "source": [
    "emg_df = emg_dev.df\n",
    "emg_df.iloc[:3]"
   ]
  },
  {
   "cell_type": "markdown",
   "metadata": {},
   "source": [
    "The units of each column of data can be accessed via `DeviceData.units`:"
   ]
  },
  {
   "cell_type": "code",
   "execution_count": 12,
   "metadata": {},
   "outputs": [
    {
     "data": {
      "text/plain": [
       "('V', 'V', 'V', 'V', 'V', 'V', 'V', 'V')"
      ]
     },
     "execution_count": 12,
     "metadata": {},
     "output_type": "execute_result"
    }
   ],
   "source": [
    "emg_dev.units"
   ]
  },
  {
   "cell_type": "markdown",
   "metadata": {},
   "source": [
    "We can get a statistical summary of the data by using `pandas.DataFrame.describe()`:"
   ]
  },
  {
   "cell_type": "code",
   "execution_count": 13,
   "metadata": {},
   "outputs": [
    {
     "data": {
      "text/html": [
       "<div>\n",
       "<style scoped>\n",
       "    .dataframe tbody tr th:only-of-type {\n",
       "        vertical-align: middle;\n",
       "    }\n",
       "\n",
       "    .dataframe tbody tr th {\n",
       "        vertical-align: top;\n",
       "    }\n",
       "\n",
       "    .dataframe thead th {\n",
       "        text-align: right;\n",
       "    }\n",
       "</style>\n",
       "<table border=\"1\" class=\"dataframe\">\n",
       "  <thead>\n",
       "    <tr style=\"text-align: right;\">\n",
       "      <th></th>\n",
       "      <th>VL</th>\n",
       "      <th>RF</th>\n",
       "      <th>GMED</th>\n",
       "      <th>TFL</th>\n",
       "      <th>GMAXS</th>\n",
       "      <th>GMAXI</th>\n",
       "      <th>BF</th>\n",
       "      <th>ST</th>\n",
       "    </tr>\n",
       "  </thead>\n",
       "  <tbody>\n",
       "    <tr>\n",
       "      <th>count</th>\n",
       "      <td>124460.000000</td>\n",
       "      <td>124460.000000</td>\n",
       "      <td>124460.000000</td>\n",
       "      <td>124460.000000</td>\n",
       "      <td>124460.000000</td>\n",
       "      <td>124460.000000</td>\n",
       "      <td>124460.000000</td>\n",
       "      <td>124460.000000</td>\n",
       "    </tr>\n",
       "    <tr>\n",
       "      <th>mean</th>\n",
       "      <td>-0.000085</td>\n",
       "      <td>0.000460</td>\n",
       "      <td>0.000941</td>\n",
       "      <td>0.001530</td>\n",
       "      <td>-0.000530</td>\n",
       "      <td>0.000279</td>\n",
       "      <td>0.000968</td>\n",
       "      <td>0.000506</td>\n",
       "    </tr>\n",
       "    <tr>\n",
       "      <th>std</th>\n",
       "      <td>0.007732</td>\n",
       "      <td>0.008471</td>\n",
       "      <td>0.018514</td>\n",
       "      <td>0.028568</td>\n",
       "      <td>0.028422</td>\n",
       "      <td>0.020501</td>\n",
       "      <td>0.005045</td>\n",
       "      <td>0.020447</td>\n",
       "    </tr>\n",
       "    <tr>\n",
       "      <th>min</th>\n",
       "      <td>-0.058990</td>\n",
       "      <td>-0.051218</td>\n",
       "      <td>-0.194007</td>\n",
       "      <td>-0.288875</td>\n",
       "      <td>-0.312993</td>\n",
       "      <td>-0.225196</td>\n",
       "      <td>-0.062786</td>\n",
       "      <td>-0.189397</td>\n",
       "    </tr>\n",
       "    <tr>\n",
       "      <th>25%</th>\n",
       "      <td>-0.004058</td>\n",
       "      <td>-0.003610</td>\n",
       "      <td>-0.004799</td>\n",
       "      <td>-0.005825</td>\n",
       "      <td>-0.007970</td>\n",
       "      <td>-0.006233</td>\n",
       "      <td>-0.001446</td>\n",
       "      <td>-0.007817</td>\n",
       "    </tr>\n",
       "    <tr>\n",
       "      <th>50%</th>\n",
       "      <td>0.000062</td>\n",
       "      <td>0.000357</td>\n",
       "      <td>0.000847</td>\n",
       "      <td>0.001042</td>\n",
       "      <td>0.000422</td>\n",
       "      <td>0.001091</td>\n",
       "      <td>0.000996</td>\n",
       "      <td>0.001491</td>\n",
       "    </tr>\n",
       "    <tr>\n",
       "      <th>75%</th>\n",
       "      <td>0.004029</td>\n",
       "      <td>0.004324</td>\n",
       "      <td>0.005883</td>\n",
       "      <td>0.007298</td>\n",
       "      <td>0.009577</td>\n",
       "      <td>0.008416</td>\n",
       "      <td>0.003437</td>\n",
       "      <td>0.010493</td>\n",
       "    </tr>\n",
       "    <tr>\n",
       "      <th>max</th>\n",
       "      <td>0.053772</td>\n",
       "      <td>0.075125</td>\n",
       "      <td>0.283898</td>\n",
       "      <td>0.396855</td>\n",
       "      <td>0.226863</td>\n",
       "      <td>0.156731</td>\n",
       "      <td>0.074848</td>\n",
       "      <td>0.130275</td>\n",
       "    </tr>\n",
       "  </tbody>\n",
       "</table>\n",
       "</div>"
      ],
      "text/plain": [
       "                  VL             RF           GMED            TFL  \\\n",
       "count  124460.000000  124460.000000  124460.000000  124460.000000   \n",
       "mean       -0.000085       0.000460       0.000941       0.001530   \n",
       "std         0.007732       0.008471       0.018514       0.028568   \n",
       "min        -0.058990      -0.051218      -0.194007      -0.288875   \n",
       "25%        -0.004058      -0.003610      -0.004799      -0.005825   \n",
       "50%         0.000062       0.000357       0.000847       0.001042   \n",
       "75%         0.004029       0.004324       0.005883       0.007298   \n",
       "max         0.053772       0.075125       0.283898       0.396855   \n",
       "\n",
       "               GMAXS          GMAXI             BF             ST  \n",
       "count  124460.000000  124460.000000  124460.000000  124460.000000  \n",
       "mean       -0.000530       0.000279       0.000968       0.000506  \n",
       "std         0.028422       0.020501       0.005045       0.020447  \n",
       "min        -0.312993      -0.225196      -0.062786      -0.189397  \n",
       "25%        -0.007970      -0.006233      -0.001446      -0.007817  \n",
       "50%         0.000422       0.001091       0.000996       0.001491  \n",
       "75%         0.009577       0.008416       0.003437       0.010493  \n",
       "max         0.226863       0.156731       0.074848       0.130275  "
      ]
     },
     "execution_count": 13,
     "metadata": {},
     "output_type": "execute_result"
    }
   ],
   "source": [
    "emg_df.describe()"
   ]
  },
  {
   "cell_type": "markdown",
   "metadata": {},
   "source": [
    "## 1.4 Plotting\n",
    "\n",
    "Let's now plot the EMG data of the vastus lateralis muscle (`\"VL\"` in the `pandas.DataFrame`).\n",
    "First, we set the style we'll use for our plots:"
   ]
  },
  {
   "cell_type": "code",
   "execution_count": 14,
   "metadata": {},
   "outputs": [],
   "source": [
    "plt.style.use('bmh')"
   ]
  },
  {
   "cell_type": "markdown",
   "metadata": {},
   "source": [
    "The x axis of our plot will contain the time (in seconds) in which the measurements occurred.\n",
    "To get those times, we use `DeviceData.time_seq()`:"
   ]
  },
  {
   "cell_type": "code",
   "execution_count": 15,
   "metadata": {},
   "outputs": [
    {
     "data": {
      "text/plain": [
       "0    0.0005\n",
       "1    0.0010\n",
       "2    0.0015\n",
       "dtype: float64"
      ]
     },
     "execution_count": 15,
     "metadata": {},
     "output_type": "execute_result"
    }
   ],
   "source": [
    "time_seq = emg_dev.time_seq()\n",
    "time_seq[:3]"
   ]
  },
  {
   "cell_type": "markdown",
   "metadata": {},
   "source": [
    "Now we can plot the signal:"
   ]
  },
  {
   "cell_type": "code",
   "execution_count": 16,
   "metadata": {},
   "outputs": [
    {
     "data": {
      "image/png": "[encoded data removed]",
      "text/plain": [
       "<Figure size 432x288 with 1 Axes>"
      ]
     },
     "metadata": {
      "needs_background": "light"
     },
     "output_type": "display_data"
    }
   ],
   "source": [
    "plt.plot(time_seq, emg_df['VL'])\n",
    "plt.title('Vastus lateralis EMG')\n",
    "plt.xlabel('time (s)')\n",
    "plt.ylabel('Voltage')\n",
    "plt.show()"
   ]
  },
  {
   "cell_type": "markdown",
   "metadata": {},
   "source": [
    "## 1.5 Other device types\n",
    "\n",
    "We'll now briefly take a look at the data for other types of device.\n",
    "\n",
    "### 1.5.1 Force plate\n",
    "\n",
    "The different force plates are stored as a list in `ViconNexusData.forcepl`.\n",
    "We grab the first one:"
   ]
  },
  {
   "cell_type": "code",
   "execution_count": 22,
   "metadata": {},
   "outputs": [
    {
     "data": {
      "text/plain": [
       "<DeviceData(\"Imported AMTI OR6 Series Force Plate #1\")>"
      ]
     },
     "execution_count": 22,
     "metadata": {},
     "output_type": "execute_result"
    }
   ],
   "source": [
    "forcepl_dev = vicon_data.forcepl[0]\n",
    "forcepl_2_dev = vicon_data.forcepl[1]\n",
    "forcepl_dev"
   ]
  },
  {
   "cell_type": "markdown",
   "metadata": {},
   "source": [
    "Let's take a look at the data itself:"
   ]
  },
  {
   "cell_type": "code",
   "execution_count": 18,
   "metadata": {},
   "outputs": [
    {
     "data": {
      "text/html": [
       "<div>\n",
       "<style scoped>\n",
       "    .dataframe tbody tr th:only-of-type {\n",
       "        vertical-align: middle;\n",
       "    }\n",
       "\n",
       "    .dataframe tbody tr th {\n",
       "        vertical-align: top;\n",
       "    }\n",
       "\n",
       "    .dataframe thead th {\n",
       "        text-align: right;\n",
       "    }\n",
       "</style>\n",
       "<table border=\"1\" class=\"dataframe\">\n",
       "  <thead>\n",
       "    <tr style=\"text-align: right;\">\n",
       "      <th></th>\n",
       "      <th>Fx</th>\n",
       "      <th>Fy</th>\n",
       "      <th>Fz</th>\n",
       "      <th>Mx</th>\n",
       "      <th>My</th>\n",
       "      <th>Mz</th>\n",
       "      <th>Cx</th>\n",
       "      <th>Cy</th>\n",
       "      <th>Cz</th>\n",
       "    </tr>\n",
       "  </thead>\n",
       "  <tbody>\n",
       "    <tr>\n",
       "      <th>0</th>\n",
       "      <td>0.0</td>\n",
       "      <td>0.0</td>\n",
       "      <td>0.0</td>\n",
       "      <td>0.0</td>\n",
       "      <td>0.0</td>\n",
       "      <td>0.0</td>\n",
       "      <td>232.0</td>\n",
       "      <td>254.0</td>\n",
       "      <td>0.0</td>\n",
       "    </tr>\n",
       "    <tr>\n",
       "      <th>1</th>\n",
       "      <td>0.0</td>\n",
       "      <td>0.0</td>\n",
       "      <td>0.0</td>\n",
       "      <td>0.0</td>\n",
       "      <td>0.0</td>\n",
       "      <td>0.0</td>\n",
       "      <td>232.0</td>\n",
       "      <td>254.0</td>\n",
       "      <td>0.0</td>\n",
       "    </tr>\n",
       "    <tr>\n",
       "      <th>2</th>\n",
       "      <td>0.0</td>\n",
       "      <td>0.0</td>\n",
       "      <td>0.0</td>\n",
       "      <td>0.0</td>\n",
       "      <td>0.0</td>\n",
       "      <td>0.0</td>\n",
       "      <td>232.0</td>\n",
       "      <td>254.0</td>\n",
       "      <td>0.0</td>\n",
       "    </tr>\n",
       "    <tr>\n",
       "      <th>3</th>\n",
       "      <td>0.0</td>\n",
       "      <td>0.0</td>\n",
       "      <td>0.0</td>\n",
       "      <td>0.0</td>\n",
       "      <td>0.0</td>\n",
       "      <td>0.0</td>\n",
       "      <td>232.0</td>\n",
       "      <td>254.0</td>\n",
       "      <td>0.0</td>\n",
       "    </tr>\n",
       "    <tr>\n",
       "      <th>4</th>\n",
       "      <td>0.0</td>\n",
       "      <td>0.0</td>\n",
       "      <td>0.0</td>\n",
       "      <td>0.0</td>\n",
       "      <td>0.0</td>\n",
       "      <td>0.0</td>\n",
       "      <td>232.0</td>\n",
       "      <td>254.0</td>\n",
       "      <td>0.0</td>\n",
       "    </tr>\n",
       "    <tr>\n",
       "      <th>5</th>\n",
       "      <td>0.0</td>\n",
       "      <td>0.0</td>\n",
       "      <td>0.0</td>\n",
       "      <td>0.0</td>\n",
       "      <td>0.0</td>\n",
       "      <td>0.0</td>\n",
       "      <td>232.0</td>\n",
       "      <td>254.0</td>\n",
       "      <td>0.0</td>\n",
       "    </tr>\n",
       "    <tr>\n",
       "      <th>6</th>\n",
       "      <td>0.0</td>\n",
       "      <td>0.0</td>\n",
       "      <td>0.0</td>\n",
       "      <td>0.0</td>\n",
       "      <td>0.0</td>\n",
       "      <td>0.0</td>\n",
       "      <td>232.0</td>\n",
       "      <td>254.0</td>\n",
       "      <td>0.0</td>\n",
       "    </tr>\n",
       "  </tbody>\n",
       "</table>\n",
       "</div>"
      ],
      "text/plain": [
       "    Fx   Fy   Fz   Mx   My   Mz     Cx     Cy   Cz\n",
       "0  0.0  0.0  0.0  0.0  0.0  0.0  232.0  254.0  0.0\n",
       "1  0.0  0.0  0.0  0.0  0.0  0.0  232.0  254.0  0.0\n",
       "2  0.0  0.0  0.0  0.0  0.0  0.0  232.0  254.0  0.0\n",
       "3  0.0  0.0  0.0  0.0  0.0  0.0  232.0  254.0  0.0\n",
       "4  0.0  0.0  0.0  0.0  0.0  0.0  232.0  254.0  0.0\n",
       "5  0.0  0.0  0.0  0.0  0.0  0.0  232.0  254.0  0.0\n",
       "6  0.0  0.0  0.0  0.0  0.0  0.0  232.0  254.0  0.0"
      ]
     },
     "execution_count": 18,
     "metadata": {},
     "output_type": "execute_result"
    }
   ],
   "source": [
    "forcepl_df = forcepl_dev.df\n",
    "forcepl_df[:7]"
   ]
  },
  {
   "cell_type": "markdown",
   "metadata": {},
   "source": [
    "Find out its units:"
   ]
  },
  {
   "cell_type": "code",
   "execution_count": 19,
   "metadata": {},
   "outputs": [
    {
     "data": {
      "text/plain": [
       "('N', 'N', 'N', 'N.mm', 'N.mm', 'N.mm', 'mm', 'mm', 'mm')"
      ]
     },
     "execution_count": 19,
     "metadata": {},
     "output_type": "execute_result"
    }
   ],
   "source": [
    "forcepl_dev.units"
   ]
  },
  {
   "cell_type": "markdown",
   "metadata": {},
   "source": [
    "Finally, we plot the measured force (x component):"
   ]
  },
  {
   "cell_type": "code",
   "execution_count": 33,
   "metadata": {},
   "outputs": [
    {
     "data": {
      "text/plain": [
       "12446.0"
      ]
     },
     "execution_count": 33,
     "metadata": {},
     "output_type": "execute_result"
    }
   ],
   "source": [
    "ind = forcepl_dev.time_seq()"
   ]
  },
  {
   "cell_type": "code",
   "execution_count": 34,
   "metadata": {},
   "outputs": [
    {
     "data": {
      "image/png": "[encoded data removed]",
      "text/plain": [
       "<Figure size 1332x756 with 1 Axes>"
      ]
     },
     "metadata": {
      "needs_background": "light"
     },
     "output_type": "display_data"
    }
   ],
   "source": [
    "ind_beg = int(forcepl_df.shape[0] / 10)\n",
    "ind_end =  int(forcepl_df.shape[0] / 4)\n",
    "\n",
    "plt.plot(forcepl_dev.time_seq()[ind_beg:ind_end],\n",
    "         forcepl_df['Fz'].iloc[ind_beg:ind_end], 'g')\n",
    "plt.title(forcepl_dev.name) \n",
    "plt.xlabel('time (s)')\n",
    "plt.ylabel('Force 1 (N), z component')\n",
    "\n",
    "plt.plot(forcepl_2_dev.time_seq().iloc[ind_beg:ind_end],\n",
    "         forcepl_2_dev.df['Fz'].iloc[ind_beg:ind_end], 'r')\n",
    "plt.title(forcepl_2_dev.name) \n",
    "plt.xlabel('time (s)')\n",
    "plt.ylabel('Force (N), z component')\n",
    "\n",
    "fig = plt.gcf()\n",
    "fig.set_size_inches(18.5, 10.5)\n",
    "plt.show()"
   ]
  },
  {
   "cell_type": "markdown",
   "metadata": {},
   "source": [
    "### 1.5.2 A trajectory tracking device\n",
    "\n",
    "We pick the first of the devices contained in `DeviceData.traj`:"
   ]
  },
  {
   "cell_type": "code",
   "execution_count": 21,
   "metadata": {},
   "outputs": [
    {
     "data": {
      "text/markdown": [
       "DeviceData(\"Angelica:HV\")"
      ],
      "text/plain": [
       "<muscle_synergies.vicon_data.user_data.DeviceData at 0x7fbef0b91d50>"
      ]
     },
     "execution_count": 21,
     "metadata": {},
     "output_type": "execute_result"
    }
   ],
   "source": [
    "traj_dev = vicon_data.traj[0]\n",
    "traj_dev"
   ]
  },
  {
   "cell_type": "markdown",
   "metadata": {},
   "source": [
    "Take a look at the `pandas.DataFrame`:"
   ]
  },
  {
   "cell_type": "code",
   "execution_count": 22,
   "metadata": {},
   "outputs": [
    {
     "data": {
      "text/html": [
       "<div>\n",
       "<style scoped>\n",
       "    .dataframe tbody tr th:only-of-type {\n",
       "        vertical-align: middle;\n",
       "    }\n",
       "\n",
       "    .dataframe tbody tr th {\n",
       "        vertical-align: top;\n",
       "    }\n",
       "\n",
       "    .dataframe thead th {\n",
       "        text-align: right;\n",
       "    }\n",
       "</style>\n",
       "<table border=\"1\" class=\"dataframe\">\n",
       "  <thead>\n",
       "    <tr style=\"text-align: right;\">\n",
       "      <th></th>\n",
       "      <th>X</th>\n",
       "      <th>Y</th>\n",
       "      <th>Z</th>\n",
       "    </tr>\n",
       "  </thead>\n",
       "  <tbody>\n",
       "    <tr>\n",
       "      <th>0</th>\n",
       "      <td>209.331</td>\n",
       "      <td>1219.74</td>\n",
       "      <td>1780.67</td>\n",
       "    </tr>\n",
       "    <tr>\n",
       "      <th>1</th>\n",
       "      <td>209.475</td>\n",
       "      <td>1219.82</td>\n",
       "      <td>1780.88</td>\n",
       "    </tr>\n",
       "    <tr>\n",
       "      <th>2</th>\n",
       "      <td>209.635</td>\n",
       "      <td>1219.94</td>\n",
       "      <td>1780.98</td>\n",
       "    </tr>\n",
       "    <tr>\n",
       "      <th>3</th>\n",
       "      <td>209.887</td>\n",
       "      <td>1220.33</td>\n",
       "      <td>1782.55</td>\n",
       "    </tr>\n",
       "    <tr>\n",
       "      <th>4</th>\n",
       "      <td>210.031</td>\n",
       "      <td>1220.34</td>\n",
       "      <td>1782.51</td>\n",
       "    </tr>\n",
       "    <tr>\n",
       "      <th>5</th>\n",
       "      <td>210.200</td>\n",
       "      <td>1220.36</td>\n",
       "      <td>1782.64</td>\n",
       "    </tr>\n",
       "    <tr>\n",
       "      <th>6</th>\n",
       "      <td>210.353</td>\n",
       "      <td>1220.02</td>\n",
       "      <td>1781.56</td>\n",
       "    </tr>\n",
       "  </tbody>\n",
       "</table>\n",
       "</div>"
      ],
      "text/plain": [
       "         X        Y        Z\n",
       "0  209.331  1219.74  1780.67\n",
       "1  209.475  1219.82  1780.88\n",
       "2  209.635  1219.94  1780.98\n",
       "3  209.887  1220.33  1782.55\n",
       "4  210.031  1220.34  1782.51\n",
       "5  210.200  1220.36  1782.64\n",
       "6  210.353  1220.02  1781.56"
      ]
     },
     "execution_count": 22,
     "metadata": {},
     "output_type": "execute_result"
    }
   ],
   "source": [
    "traj_df = traj_dev.df\n",
    "traj_df[:7]"
   ]
  },
  {
   "cell_type": "markdown",
   "metadata": {},
   "source": [
    "Check the units:"
   ]
  },
  {
   "cell_type": "code",
   "execution_count": 23,
   "metadata": {},
   "outputs": [
    {
     "data": {
      "text/plain": [
       "('mm', 'mm', 'mm')"
      ]
     },
     "execution_count": 23,
     "metadata": {},
     "output_type": "execute_result"
    }
   ],
   "source": [
    "traj_dev.units"
   ]
  },
  {
   "cell_type": "markdown",
   "metadata": {},
   "source": [
    "And plot the data"
   ]
  },
  {
   "cell_type": "code",
   "execution_count": 24,
   "metadata": {},
   "outputs": [
    {
     "data": {
      "image/png": "[encoded data removed]",
      "text/plain": [
       "<Figure size 432x288 with 1 Axes>"
      ]
     },
     "metadata": {
      "needs_background": "light"
     },
     "output_type": "display_data"
    }
   ],
   "source": [
    "plt.plot(traj_dev.time_seq(), traj_df['X'])\n",
    "plt.title(traj_dev.name) \n",
    "plt.xlabel('time (s)')\n",
    "plt.ylabel('Position (mm), x component')\n",
    "plt.show()"
   ]
  }
 ],
 "metadata": {
  "kernelspec": {
   "display_name": "Python 3",
   "language": "python",
   "name": "python3"
  },
  "language_info": {
   "codemirror_mode": {
    "name": "ipython",
    "version": 3
   },
   "file_extension": ".py",
   "mimetype": "text/x-python",
   "name": "python",
   "nbconvert_exporter": "python",
   "pygments_lexer": "ipython3",
   "version": "3.7.4"
  }
 },
 "nbformat": 4,
 "nbformat_minor": 2
}
